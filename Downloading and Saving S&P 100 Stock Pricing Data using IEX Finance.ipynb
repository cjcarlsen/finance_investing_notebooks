{
 "cells": [
  {
   "cell_type": "markdown",
   "metadata": {},
   "source": [
    "# Objective\n",
    "\n",
    "The purpose of this Jupyter notebook is to show you how to download open, high, low, close, volume data for companies in the S&P 500. \n",
    "\n",
    "We will use pandas-datareader to download this stock market data, and will save it to disk for use at a later time."
   ]
  },
  {
   "cell_type": "markdown",
   "metadata": {},
   "source": [
    "# Import Libraries"
   ]
  },
  {
   "cell_type": "code",
   "execution_count": 1,
   "metadata": {},
   "outputs": [],
   "source": [
    "# Import datetime to set a begin and end\n",
    "# date on the stock information to download.\n",
    "from datetime import datetime\n",
    "\n",
    "# Import pandas to handle to stock data\n",
    "# we download.\n",
    "import pandas as pd\n",
    "\n",
    "# Import pandas datareader to download stock data\n",
    "# using IEX Finance.\n",
    "import pandas_datareader.data as web\n",
    "\n",
    "# Versions used:\n",
    "# pandas==0.22.0\n",
    "# pandas-datareader==0.6.0"
   ]
  },
  {
   "cell_type": "markdown",
   "metadata": {},
   "source": [
    "# Getting the S&P 100 Companies\n",
    "\n",
    "I downloaded a listing of the S&P 100 Companies and saved that information in an Excel workbook. This file can be found in the \"Datasets\" directory I have created.\n",
    "\n",
    "You could also download similar information from here: https://www.barchart.com/stocks/indices/sp/sp100. There you can also find the S&P 500, Russel 2000, and other indicies components."
   ]
  },
  {
   "cell_type": "code",
   "execution_count": 2,
   "metadata": {},
   "outputs": [],
   "source": [
    "filename = r\"Datasets\\s&p100_companies.xlsx\"\n",
    "sp_one_hundred = pd.read_excel(filename)"
   ]
  },
  {
   "cell_type": "markdown",
   "metadata": {},
   "source": [
    "# Reviewing our data\n",
    "\n",
    "As you can see below, there are two columns: Symbol and Name for Company name. We'll grab the symbol data and use these ticker symbols to help us bulk download the OHLCV dataset in the next step."
   ]
  },
  {
   "cell_type": "code",
   "execution_count": 3,
   "metadata": {},
   "outputs": [
    {
     "data": {
      "text/html": [
       "<div>\n",
       "<style scoped>\n",
       "    .dataframe tbody tr th:only-of-type {\n",
       "        vertical-align: middle;\n",
       "    }\n",
       "\n",
       "    .dataframe tbody tr th {\n",
       "        vertical-align: top;\n",
       "    }\n",
       "\n",
       "    .dataframe thead th {\n",
       "        text-align: right;\n",
       "    }\n",
       "</style>\n",
       "<table border=\"1\" class=\"dataframe\">\n",
       "  <thead>\n",
       "    <tr style=\"text-align: right;\">\n",
       "      <th></th>\n",
       "      <th>Symbol</th>\n",
       "      <th>Name</th>\n",
       "    </tr>\n",
       "  </thead>\n",
       "  <tbody>\n",
       "    <tr>\n",
       "      <th>0</th>\n",
       "      <td>AAPL</td>\n",
       "      <td>Apple Inc.</td>\n",
       "    </tr>\n",
       "    <tr>\n",
       "      <th>1</th>\n",
       "      <td>ABBV</td>\n",
       "      <td>AbbVie Inc.</td>\n",
       "    </tr>\n",
       "    <tr>\n",
       "      <th>2</th>\n",
       "      <td>ABT</td>\n",
       "      <td>Abbott Laboratories</td>\n",
       "    </tr>\n",
       "    <tr>\n",
       "      <th>3</th>\n",
       "      <td>ACN</td>\n",
       "      <td>Accenture plc</td>\n",
       "    </tr>\n",
       "    <tr>\n",
       "      <th>4</th>\n",
       "      <td>AGN</td>\n",
       "      <td>Allergan plc</td>\n",
       "    </tr>\n",
       "  </tbody>\n",
       "</table>\n",
       "</div>"
      ],
      "text/plain": [
       "  Symbol                 Name\n",
       "0   AAPL           Apple Inc.\n",
       "1   ABBV          AbbVie Inc.\n",
       "2    ABT  Abbott Laboratories\n",
       "3    ACN        Accenture plc\n",
       "4    AGN         Allergan plc"
      ]
     },
     "execution_count": 3,
     "metadata": {},
     "output_type": "execute_result"
    }
   ],
   "source": [
    "sp_one_hundred.head()"
   ]
  },
  {
   "cell_type": "markdown",
   "metadata": {},
   "source": [
    "Grab the ticker symbols from the DataFrame above. This will create a NumPy array which contains all of the ticker symbols we are interested in downloading."
   ]
  },
  {
   "cell_type": "code",
   "execution_count": 4,
   "metadata": {},
   "outputs": [],
   "source": [
    "sp_one_hundred_tickers = sp_one_hundred['Symbol'].values"
   ]
  },
  {
   "cell_type": "markdown",
   "metadata": {},
   "source": [
    "# Bulk Downloading the Data\n",
    "\n",
    "Now that we have all of the ticker symbols, let's download some data!\n",
    "\n",
    "We will first create a variable called stock_data_dictionary. This is going to be a simple Python dictionary, where each key will be the ticker symbol, and each value for the key will be a DataFrame containing that stock's OHLCV DataFrame.\n",
    "\n",
    "We need to specify the start and end date for the data we wish to download. In this example I'm going to download the past month of data to keep it light. You can go back as far as 5 years ago to download data using this method through IEX Finance if you wish.\n",
    "\n",
    "Finally, we will use a for loop to go through each ticker symbol and download that data from the pandas-datareader package. We save the ticker symbol as the key and the dataframe as the value as seen in the last line of the cell block below."
   ]
  },
  {
   "cell_type": "code",
   "execution_count": 5,
   "metadata": {},
   "outputs": [
    {
     "name": "stdout",
     "output_type": "stream",
     "text": [
      "1y\n",
      "1y\n",
      "1y\n",
      "1y\n",
      "1y\n",
      "1y\n",
      "1y\n",
      "1y\n",
      "1y\n",
      "1y\n",
      "1y\n",
      "1y\n",
      "1y\n",
      "1y\n",
      "1y\n",
      "1y\n",
      "1y\n",
      "1y\n",
      "1y\n",
      "1y\n",
      "1y\n",
      "1y\n",
      "1y\n",
      "1y\n",
      "1y\n",
      "1y\n",
      "1y\n",
      "1y\n",
      "1y\n",
      "1y\n",
      "1y\n",
      "1y\n",
      "1y\n",
      "1y\n",
      "1y\n",
      "1y\n",
      "1y\n",
      "1y\n",
      "1y\n",
      "1y\n",
      "1y\n",
      "1y\n",
      "1y\n",
      "1y\n",
      "1y\n",
      "1y\n",
      "1y\n",
      "1y\n",
      "1y\n",
      "1y\n",
      "1y\n",
      "1y\n",
      "1y\n",
      "1y\n",
      "1y\n",
      "1y\n",
      "1y\n",
      "1y\n",
      "1y\n",
      "1y\n",
      "1y\n",
      "1y\n",
      "1y\n",
      "1y\n",
      "1y\n",
      "1y\n",
      "1y\n",
      "1y\n",
      "1y\n",
      "1y\n",
      "1y\n",
      "1y\n",
      "1y\n",
      "1y\n",
      "1y\n",
      "1y\n",
      "1y\n",
      "1y\n",
      "1y\n",
      "1y\n",
      "1y\n",
      "1y\n",
      "1y\n",
      "1y\n",
      "1y\n",
      "1y\n",
      "1y\n",
      "1y\n",
      "1y\n",
      "1y\n",
      "1y\n",
      "1y\n",
      "1y\n",
      "1y\n",
      "1y\n",
      "1y\n",
      "1y\n",
      "1y\n",
      "1y\n",
      "1y\n",
      "1y\n",
      "1y\n"
     ]
    }
   ],
   "source": [
    "stock_data_dictionary = {}\n",
    "start = datetime(2018, 9, 12)\n",
    "end = datetime(2018, 10, 12)\n",
    "\n",
    "for stock in sp_one_hundred_tickers:\n",
    "    stock_data_dictionary[stock] = web.DataReader(stock, 'iex', start, end)"
   ]
  },
  {
   "cell_type": "markdown",
   "metadata": {},
   "source": [
    "# Converting the Dictionary to a Pandas Panel\n",
    "\n",
    "The next thing we will do is convert the stock_data_dictionary with all of our information into a pandas Panel. I like to use the Panel because I think it is easy to use and we will be able to save the file directly to the disk once it is converted.\n",
    "\n",
    "For future reference, the Panel was depracated in the 0.20.X release of pandas, and will show a FutureWarning in pandas version 0.23.X. However, for our purposes we can continue to use this right now."
   ]
  },
  {
   "cell_type": "code",
   "execution_count": 6,
   "metadata": {},
   "outputs": [],
   "source": [
    "stock_data_panel = pd.Panel(stock_data_dictionary)"
   ]
  },
  {
   "cell_type": "markdown",
   "metadata": {},
   "source": [
    "# Preview the Panel\n",
    "\n",
    "Let's take a look at our Panel and see how the data is formatted.\n",
    "\n",
    "We see that there are 3 axis, one for Items, a Major axis, and a Minor axis. The Items axis contains the stock ticker information. The Major axis contains the dates (this will be the rows in our data). The Minor axis contains the OHLCV values (this will be the columns in our data).\n",
    "\n",
    "We can also preview one stock as shown below. For this example we'll use the tail method to look at those most recent pricing data on AAPL stock."
   ]
  },
  {
   "cell_type": "code",
   "execution_count": 7,
   "metadata": {},
   "outputs": [
    {
     "data": {
      "text/plain": [
       "<class 'pandas.core.panel.Panel'>\n",
       "Dimensions: 102 (items) x 23 (major_axis) x 5 (minor_axis)\n",
       "Items axis: AAPL to XOM\n",
       "Major_axis axis: 2018-09-12 to 2018-10-12\n",
       "Minor_axis axis: open to volume"
      ]
     },
     "execution_count": 7,
     "metadata": {},
     "output_type": "execute_result"
    }
   ],
   "source": [
    "stock_data_panel"
   ]
  },
  {
   "cell_type": "code",
   "execution_count": 8,
   "metadata": {},
   "outputs": [
    {
     "data": {
      "text/html": [
       "<div>\n",
       "<style scoped>\n",
       "    .dataframe tbody tr th:only-of-type {\n",
       "        vertical-align: middle;\n",
       "    }\n",
       "\n",
       "    .dataframe tbody tr th {\n",
       "        vertical-align: top;\n",
       "    }\n",
       "\n",
       "    .dataframe thead th {\n",
       "        text-align: right;\n",
       "    }\n",
       "</style>\n",
       "<table border=\"1\" class=\"dataframe\">\n",
       "  <thead>\n",
       "    <tr style=\"text-align: right;\">\n",
       "      <th></th>\n",
       "      <th>open</th>\n",
       "      <th>high</th>\n",
       "      <th>low</th>\n",
       "      <th>close</th>\n",
       "      <th>volume</th>\n",
       "    </tr>\n",
       "    <tr>\n",
       "      <th>date</th>\n",
       "      <th></th>\n",
       "      <th></th>\n",
       "      <th></th>\n",
       "      <th></th>\n",
       "      <th></th>\n",
       "    </tr>\n",
       "  </thead>\n",
       "  <tbody>\n",
       "    <tr>\n",
       "      <th>2018-10-08</th>\n",
       "      <td>222.21</td>\n",
       "      <td>224.80</td>\n",
       "      <td>220.2000</td>\n",
       "      <td>223.77</td>\n",
       "      <td>29663923.0</td>\n",
       "    </tr>\n",
       "    <tr>\n",
       "      <th>2018-10-09</th>\n",
       "      <td>223.64</td>\n",
       "      <td>227.27</td>\n",
       "      <td>222.2462</td>\n",
       "      <td>226.87</td>\n",
       "      <td>26891029.0</td>\n",
       "    </tr>\n",
       "    <tr>\n",
       "      <th>2018-10-10</th>\n",
       "      <td>225.46</td>\n",
       "      <td>226.35</td>\n",
       "      <td>216.0500</td>\n",
       "      <td>216.36</td>\n",
       "      <td>41990554.0</td>\n",
       "    </tr>\n",
       "    <tr>\n",
       "      <th>2018-10-11</th>\n",
       "      <td>214.52</td>\n",
       "      <td>219.50</td>\n",
       "      <td>212.3200</td>\n",
       "      <td>214.45</td>\n",
       "      <td>53124392.0</td>\n",
       "    </tr>\n",
       "    <tr>\n",
       "      <th>2018-10-12</th>\n",
       "      <td>220.42</td>\n",
       "      <td>222.88</td>\n",
       "      <td>216.8400</td>\n",
       "      <td>222.11</td>\n",
       "      <td>40337851.0</td>\n",
       "    </tr>\n",
       "  </tbody>\n",
       "</table>\n",
       "</div>"
      ],
      "text/plain": [
       "              open    high       low   close      volume\n",
       "date                                                    \n",
       "2018-10-08  222.21  224.80  220.2000  223.77  29663923.0\n",
       "2018-10-09  223.64  227.27  222.2462  226.87  26891029.0\n",
       "2018-10-10  225.46  226.35  216.0500  216.36  41990554.0\n",
       "2018-10-11  214.52  219.50  212.3200  214.45  53124392.0\n",
       "2018-10-12  220.42  222.88  216.8400  222.11  40337851.0"
      ]
     },
     "execution_count": 8,
     "metadata": {},
     "output_type": "execute_result"
    }
   ],
   "source": [
    "stock_data_panel['AAPL'].tail()"
   ]
  },
  {
   "cell_type": "markdown",
   "metadata": {},
   "source": [
    "# Save the file to disk\n",
    "\n",
    "Now you can save the file to disk using the to_pickle method. I do this because it helps keep the file size down, but you could save this as an Excel file or csv as well if you wanted to."
   ]
  },
  {
   "cell_type": "code",
   "execution_count": 9,
   "metadata": {},
   "outputs": [],
   "source": [
    "stock_data_panel.to_pickle('s&p_100_pricing_data_9-12-2018_to_10-12-2018')"
   ]
  }
 ],
 "metadata": {
  "kernelspec": {
   "display_name": "Python 3",
   "language": "python",
   "name": "python3"
  },
  "language_info": {
   "codemirror_mode": {
    "name": "ipython",
    "version": 3
   },
   "file_extension": ".py",
   "mimetype": "text/x-python",
   "name": "python",
   "nbconvert_exporter": "python",
   "pygments_lexer": "ipython3",
   "version": "3.6.4"
  }
 },
 "nbformat": 4,
 "nbformat_minor": 2
}
